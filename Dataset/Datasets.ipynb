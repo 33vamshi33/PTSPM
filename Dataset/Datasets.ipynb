{
 "cells": [
  {
   "cell_type": "code",
   "execution_count": 1,
   "id": "d3bd9145",
   "metadata": {},
   "outputs": [],
   "source": [
    "import numpy as np\n",
    "import pandas as pd\n",
    "from scipy.stats import uniform \n",
    "import random\n",
    "from numpy import random as ran\n",
    "import xlsxwriter"
   ]
  },
  {
   "cell_type": "code",
   "execution_count": 2,
   "id": "21ee4835",
   "metadata": {},
   "outputs": [],
   "source": [
    "def getArrivalTasks(mew):\n",
    "  # Consider 7000 devices under each surrounding in which they try to co-ordinate with sbs everytime.\n",
    "  df = []\n",
    "  for k in range(200):\n",
    "    templist = []\n",
    "    for num in range(1,7001):\n",
    "      random_bit = random.getrandbits(1)\n",
    "      # random_bit = 1\n",
    "      random_boolean = bool(random_bit)\n",
    "      if random_boolean == True  :\n",
    "        char = chr(65 + k)\n",
    "        temp = ['DeviceID' + char + \"{}\".format(num)]\n",
    "        temp.append(int(np.random.uniform(2000,5000) * mew)) \n",
    "        templist.append(temp)\n",
    "    df.append(pd.DataFrame(templist, columns = ['DevicaName', 'ComputionTasksInBits'], index = [i for i in range(1,len(templist)+1)]))\n",
    "  return df"
   ]
  },
  {
   "cell_type": "code",
   "execution_count": 3,
   "id": "2dd596bb",
   "metadata": {},
   "outputs": [],
   "source": [
    "for sbs in range(1,16):\n",
    "    name = 'SBS' + \"{}\".format(sbs) + 'Upto200Seconds.xlsx'\n",
    "    writer = pd.ExcelWriter(name, engine='xlsxwriter')\n",
    "    tempdf = getArrivalTasks(1)\n",
    "    for i in range(1,200):\n",
    "      s = \"{}\".format(i) + 'sec'\n",
    "      tempdf[i-1].to_excel(writer, sheet_name=s, index=False)\n",
    "    # Close the Pandas Excel writer and output the Excel file.\n",
    "    writer.save()"
   ]
  },
  {
   "cell_type": "code",
   "execution_count": null,
   "id": "547089e7",
   "metadata": {},
   "outputs": [],
   "source": []
  }
 ],
 "metadata": {
  "kernelspec": {
   "display_name": "Python 3 (ipykernel)",
   "language": "python",
   "name": "python3"
  },
  "language_info": {
   "codemirror_mode": {
    "name": "ipython",
    "version": 3
   },
   "file_extension": ".py",
   "mimetype": "text/x-python",
   "name": "python",
   "nbconvert_exporter": "python",
   "pygments_lexer": "ipython3",
   "version": "3.8.3"
  }
 },
 "nbformat": 4,
 "nbformat_minor": 5
}
